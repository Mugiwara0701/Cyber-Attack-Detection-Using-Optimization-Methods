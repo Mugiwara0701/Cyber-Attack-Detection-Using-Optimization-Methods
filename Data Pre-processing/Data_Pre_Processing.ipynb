{
 "cells": [
  {
   "cell_type": "markdown",
   "metadata": {},
   "source": [
    "## Importing Libraries"
   ]
  },
  {
   "cell_type": "code",
   "execution_count": 1,
   "metadata": {},
   "outputs": [],
   "source": [
    "import pandas as pd\n",
    "from matplotlib import pyplot as plt\n",
    "import seaborn as sns\n",
    "from sklearn.preprocessing import LabelEncoder"
   ]
  },
  {
   "attachments": {},
   "cell_type": "markdown",
   "metadata": {},
   "source": [
    "## Reading labeled connection logs files"
   ]
  },
  {
   "cell_type": "code",
   "execution_count": 2,
   "metadata": {},
   "outputs": [],
   "source": [
    "file34 = \"D:/iot_23_datasets_full/opt/Malware-Project/BigDataset/IoTScenarios/CTU-IoT-Malware-Capture-34-1/bro/conn.log.labeled\"\n",
    "file43 = \"D:/iot_23_datasets_full/opt/Malware-Project/BigDataset/IoTScenarios/CTU-IoT-Malware-Capture-43-1/bro/conn.log.labeled\"\n",
    "file44 = \"D:/iot_23_datasets_full/opt/Malware-Project/BigDataset/IoTScenarios/CTU-IoT-Malware-Capture-44-1/bro/conn.log.labeled\"\n",
    "file49 = \"D:/iot_23_datasets_full/opt/Malware-Project/BigDataset/IoTScenarios/CTU-IoT-Malware-Capture-49-1/bro/conn.log.labeled\"\n",
    "file52 = \"D:/iot_23_datasets_full/opt/Malware-Project/BigDataset/IoTScenarios/CTU-IoT-Malware-Capture-52-1/bro/conn.log.labeled\"\n",
    "file20 = \"D:/iot_23_datasets_full/opt/Malware-Project/BigDataset/IoTScenarios/CTU-IoT-Malware-Capture-20-1/bro/conn.log.labeled\"\n",
    "file21 = \"D:/iot_23_datasets_full/opt/Malware-Project/BigDataset/IoTScenarios/CTU-IoT-Malware-Capture-21-1/bro/conn.log.labeled\"\n",
    "file42 = \"D:/iot_23_datasets_full/opt/Malware-Project/BigDataset/IoTScenarios/CTU-IoT-Malware-Capture-42-1/bro/conn.log.labeled\"\n",
    "file60 = \"D:/iot_23_datasets_full/opt/Malware-Project/BigDataset/IoTScenarios/CTU-IoT-Malware-Capture-60-1/bro/conn.log.labeled\"\n",
    "file17 = \"D:/iot_23_datasets_full/opt/Malware-Project/BigDataset/IoTScenarios/CTU-IoT-Malware-Capture-17-1/bro/conn.log.labeled\"\n",
    "file36 = \"D:/iot_23_datasets_full/opt/Malware-Project/BigDataset/IoTScenarios/CTU-IoT-Malware-Capture-36-1/bro/conn.log.labeled\"\n",
    "file33 = \"D:/iot_23_datasets_full/opt/Malware-Project/BigDataset/IoTScenarios/CTU-IoT-Malware-Capture-33-1/bro/conn.log.labeled\"\n",
    "file8 = \"D:/iot_23_datasets_full/opt/Malware-Project/BigDataset/IoTScenarios/CTU-IoT-Malware-Capture-8-1/bro/conn.log.labeled\"\n",
    "file35 = \"D:/iot_23_datasets_full/opt/Malware-Project/BigDataset/IoTScenarios/CTU-IoT-Malware-Capture-35-1/bro/conn.log.labeled\"\n",
    "file48 = \"D:/iot_23_datasets_full/opt/Malware-Project/BigDataset/IoTScenarios/CTU-IoT-Malware-Capture-48-1/bro/conn.log.labeled\"\n",
    "file39 = \"D:/iot_23_datasets_full/opt/Malware-Project/BigDataset/IoTScenarios/CTU-IoT-Malware-Capture-39-1/bro/conn.log.labeled\"\n",
    "file7 = \"D:/iot_23_datasets_full/opt/Malware-Project/BigDataset/IoTScenarios/CTU-IoT-Malware-Capture-7-1/bro/conn.log.labeled\"\n",
    "file9 = \"D:/iot_23_datasets_full/opt/Malware-Project/BigDataset/IoTScenarios/CTU-IoT-Malware-Capture-9-1/bro/conn.log.labeled\"\n",
    "file3 = \"D:/iot_23_datasets_full/opt/Malware-Project/BigDataset/IoTScenarios/CTU-IoT-Malware-Capture-3-1/bro/conn.log.labeled\"\n",
    "file1 = \"D:/iot_23_datasets_full/opt/Malware-Project/BigDataset/IoTScenarios/CTU-IoT-Malware-Capture-1-1/bro/conn.log.labeled\""
   ]
  },
  {
   "cell_type": "code",
   "execution_count": 3,
   "metadata": {},
   "outputs": [],
   "source": [
    "df34 = pd.read_table(filepath_or_buffer=file34, skiprows=10, nrows=1000000)\n",
    "df34.columns=['ts','uid',\n",
    "              'id_orig_h',\n",
    "              'id.orig_p',\n",
    "              'id.resp_h',\n",
    "              'id.resp_p',\n",
    "              'proto',\n",
    "              'service',\n",
    "              'duration',\n",
    "              'orig_bytes',\n",
    "              'resp_bytes',\n",
    "              'conn_state',\n",
    "              'local_orig',\n",
    "              'local_resp',\n",
    "              'misses_bytes',\n",
    "              'history',\n",
    "              'orig_pkts',\n",
    "              'orig_ip_bytes',\n",
    "              'resp_pkts',\n",
    "              'resp_ip_bytes',\n",
    "              'label']\n",
    "df34.drop(df34.tail(1).index,inplace=True)"
   ]
  },
  {
   "cell_type": "code",
   "execution_count": 4,
   "metadata": {},
   "outputs": [],
   "source": [
    "df34 = pd.read_table(filepath_or_buffer=file34, skiprows=10, nrows=1000000)\n",
    "df34.columns=['ts',\n",
    "              'uid',\n",
    "              'id_orig_h',\n",
    "              'id.orig_p',\n",
    "              'id.resp_h',\n",
    "              'id.resp_p',\n",
    "              'proto',\n",
    "              'service',\n",
    "              'duration',\n",
    "              'orig_bytes',\n",
    "              'resp_bytes',\n",
    "              'conn_state',\n",
    "              'local_orig',\n",
    "              'local_resp',\n",
    "              'misses_bytes',\n",
    "              'history',\n",
    "              'orig_pkts',\n",
    "              'orig_ip_bytes',\n",
    "              'resp_pkts',\n",
    "              'resp_ip_bytes',\n",
    "              'label']\n",
    "df34.drop(df34.tail(1).index,inplace=True)"
   ]
  },
  {
   "cell_type": "code",
   "execution_count": 5,
   "metadata": {},
   "outputs": [],
   "source": [
    "df43 = pd.read_table(filepath_or_buffer=file43, skiprows=10, nrows=1000000)\n",
    "df43.columns=['ts',\n",
    "              'uid',\n",
    "              'id.orig_h',\n",
    "              'id.orig_p',\n",
    "              'id.resp_h',\n",
    "              'id.resp_p',\n",
    "              'proto',\n",
    "              'service',\n",
    "              'duration',\n",
    "              'orig_bytes',\n",
    "              'resp_bytes',\n",
    "              'conn_state',\n",
    "              'local_orig',\n",
    "              'local_resp',\n",
    "              'missed_bytes',\n",
    "              'history',\n",
    "              'orig_pkts',\n",
    "              'orig_ip_bytes',\n",
    "              'resp_pkts',\n",
    "              'resp_ip_bytes',\n",
    "              'label']\n",
    "df43.drop(df43.tail(1).index,inplace=True)"
   ]
  },
  {
   "cell_type": "code",
   "execution_count": 6,
   "metadata": {},
   "outputs": [],
   "source": [
    "df44 = pd.read_table(filepath_or_buffer=file44, skiprows=10, nrows=1000000)\n",
    "df44.columns=['ts',\n",
    "              'uid',\n",
    "              'id.orig_h',\n",
    "              'id.orig_p',\n",
    "              'id.resp_h',\n",
    "              'id.resp_p',\n",
    "              'proto',\n",
    "              'service',\n",
    "              'duration',\n",
    "              'orig_bytes',\n",
    "              'resp_bytes',\n",
    "              'conn_state',\n",
    "              'local_orig',\n",
    "              'local_resp',\n",
    "              'missed_bytes',\n",
    "              'history',\n",
    "              'orig_pkts',\n",
    "              'orig_ip_bytes',\n",
    "              'resp_pkts',\n",
    "              'resp_ip_bytes',\n",
    "              'label']\n",
    "df44.drop(df44.tail(1).index,inplace=True)"
   ]
  },
  {
   "cell_type": "code",
   "execution_count": 7,
   "metadata": {},
   "outputs": [],
   "source": [
    "df49 = pd.read_table(filepath_or_buffer=file49, skiprows=10, nrows=1000000)\n",
    "df49.columns=['ts',\n",
    "              'uid',\n",
    "              'id.orig_h',\n",
    "              'id.orig_p',\n",
    "              'id.resp_h',\n",
    "              'id.resp_p',\n",
    "              'proto',\n",
    "              'service',\n",
    "              'duration',\n",
    "              'orig_bytes',\n",
    "              'resp_bytes',\n",
    "              'conn_state',\n",
    "              'local_orig',\n",
    "              'local_resp',\n",
    "              'missed_bytes',\n",
    "              'history',\n",
    "              'orig_pkts',\n",
    "              'orig_ip_bytes',\n",
    "              'resp_pkts',\n",
    "              'resp_ip_bytes',\n",
    "              'label']\n",
    "df49.drop(df49.tail(1).index,inplace=True)"
   ]
  },
  {
   "cell_type": "code",
   "execution_count": 8,
   "metadata": {},
   "outputs": [],
   "source": [
    "df52 = pd.read_table(filepath_or_buffer=file52, skiprows=10, nrows=1000000)\n",
    "df52.columns=['ts',\n",
    "              'uid',\n",
    "              'id.orig_h',\n",
    "              'id.orig_p',\n",
    "              'id.resp_h',\n",
    "              'id.resp_p',\n",
    "              'proto',\n",
    "              'service',\n",
    "              'duration',\n",
    "              'orig_bytes',\n",
    "              'resp_bytes',\n",
    "              'conn_state',\n",
    "              'local_orig',\n",
    "              'local_resp',\n",
    "              'missed_bytes',\n",
    "              'history',\n",
    "              'orig_pkts',\n",
    "              'orig_ip_bytes',\n",
    "              'resp_pkts',\n",
    "              'resp_ip_bytes',\n",
    "              'label']\n",
    "df52.drop(df52.tail(1).index,inplace=True)"
   ]
  },
  {
   "cell_type": "code",
   "execution_count": 9,
   "metadata": {},
   "outputs": [],
   "source": [
    "df20 = pd.read_table(filepath_or_buffer=file20, skiprows=10, nrows=1000000)\n",
    "df20.columns=['ts',\n",
    "              'uid',\n",
    "              'id.orig_h',\n",
    "              'id.orig_p',\n",
    "              'id.resp_h',\n",
    "              'id.resp_p',\n",
    "              'proto',\n",
    "              'service',\n",
    "              'duration',\n",
    "              'orig_bytes',\n",
    "              'resp_bytes',\n",
    "              'conn_state',\n",
    "              'local_orig',\n",
    "              'local_resp',\n",
    "              'missed_bytes',\n",
    "              'history',\n",
    "              'orig_pkts',\n",
    "              'orig_ip_bytes',\n",
    "              'resp_pkts',\n",
    "              'resp_ip_bytes',\n",
    "              'label']\n",
    "df20.drop(df20.tail(1).index,inplace=True)"
   ]
  },
  {
   "cell_type": "code",
   "execution_count": 10,
   "metadata": {},
   "outputs": [],
   "source": [
    "df21 = pd.read_table(filepath_or_buffer=file21, skiprows=10, nrows=1000000)\n",
    "df21.columns=['ts',\n",
    "              'uid',\n",
    "              'id.orig_h',\n",
    "              'id.orig_p',\n",
    "              'id.resp_h',\n",
    "              'id.resp_p',\n",
    "              'proto',\n",
    "              'service',\n",
    "              'duration',\n",
    "              'orig_bytes',\n",
    "              'resp_bytes',\n",
    "              'conn_state',\n",
    "              'local_orig',\n",
    "              'local_resp',\n",
    "              'missed_bytes',\n",
    "              'history',\n",
    "              'orig_pkts',\n",
    "              'orig_ip_bytes',\n",
    "              'resp_pkts',\n",
    "              'resp_ip_bytes',\n",
    "              'label']\n",
    "df21.drop(df21.tail(1).index,inplace=True)"
   ]
  },
  {
   "cell_type": "code",
   "execution_count": 11,
   "metadata": {},
   "outputs": [],
   "source": [
    "df42 = pd.read_table(filepath_or_buffer=file42, skiprows=10, nrows=1000000)\n",
    "df42.columns=['ts',\n",
    "              'uid',\n",
    "              'id.orig_h',\n",
    "              'id.orig_p',\n",
    "              'id.resp_h',\n",
    "              'id.resp_p',\n",
    "              'proto',\n",
    "              'service',\n",
    "              'duration',\n",
    "              'orig_bytes',\n",
    "              'resp_bytes',\n",
    "              'conn_state',\n",
    "              'local_orig',\n",
    "              'local_resp',\n",
    "              'missed_bytes',\n",
    "              'history',\n",
    "              'orig_pkts',\n",
    "              'orig_ip_bytes',\n",
    "              'resp_pkts',\n",
    "              'resp_ip_bytes',\n",
    "              'label']\n",
    "df42.drop(df42.tail(1).index,inplace=True)"
   ]
  },
  {
   "cell_type": "code",
   "execution_count": 12,
   "metadata": {},
   "outputs": [],
   "source": [
    "df60 = pd.read_table(filepath_or_buffer=file60, skiprows=10, nrows=1000000)\n",
    "df60.columns=['ts',\n",
    "              'uid',\n",
    "              'id.orig_h',\n",
    "              'id.orig_p',\n",
    "              'id.resp_h',\n",
    "              'id.resp_p',\n",
    "              'proto',\n",
    "              'service',\n",
    "              'duration',\n",
    "              'orig_bytes',\n",
    "              'resp_bytes',\n",
    "              'conn_state',\n",
    "              'local_orig',\n",
    "              'local_resp',\n",
    "              'missed_bytes',\n",
    "              'history',\n",
    "              'orig_pkts',\n",
    "              'orig_ip_bytes',\n",
    "              'resp_pkts',\n",
    "              'resp_ip_bytes',\n",
    "              'label']\n",
    "df60.drop(df60.tail(1).index,inplace=True)"
   ]
  },
  {
   "cell_type": "code",
   "execution_count": 13,
   "metadata": {},
   "outputs": [],
   "source": [
    "df17 = pd.read_table(filepath_or_buffer=file17, skiprows=10, nrows=1000000)\n",
    "df17.columns=['ts',\n",
    "              'uid',\n",
    "              'id.orig_h',\n",
    "              'id.orig_p',\n",
    "              'id.resp_h',\n",
    "              'id.resp_p',\n",
    "              'proto',\n",
    "              'service',\n",
    "              'duration',\n",
    "              'orig_bytes',\n",
    "              'resp_bytes',\n",
    "              'conn_state',\n",
    "              'local_orig',\n",
    "              'local_resp',\n",
    "              'missed_bytes',\n",
    "              'history',\n",
    "              'orig_pkts',\n",
    "              'orig_ip_bytes',\n",
    "              'resp_pkts',\n",
    "              'resp_ip_bytes',\n",
    "              'label']\n",
    "df17.drop(df17.tail(1).index,inplace=True)"
   ]
  },
  {
   "cell_type": "code",
   "execution_count": 14,
   "metadata": {},
   "outputs": [],
   "source": [
    "df36 = pd.read_table(filepath_or_buffer=file36, skiprows=10, nrows=1000000)\n",
    "df36.columns=['ts',\n",
    "              'uid',\n",
    "              'id.orig_h',\n",
    "              'id.orig_p',\n",
    "              'id.resp_h',\n",
    "              'id.resp_p',\n",
    "              'proto',\n",
    "              'service',\n",
    "              'duration',\n",
    "              'orig_bytes',\n",
    "              'resp_bytes',\n",
    "              'conn_state',\n",
    "              'local_orig',\n",
    "              'local_resp',\n",
    "              'missed_bytes',\n",
    "              'history',\n",
    "              'orig_pkts',\n",
    "              'orig_ip_bytes',\n",
    "              'resp_pkts',\n",
    "              'resp_ip_bytes',\n",
    "              'label']\n",
    "df36.drop(df36.tail(1).index,inplace=True)"
   ]
  },
  {
   "cell_type": "code",
   "execution_count": 15,
   "metadata": {},
   "outputs": [],
   "source": [
    "df33 = pd.read_table(filepath_or_buffer=file33, skiprows=10, nrows=1000000)\n",
    "df33.columns=['ts',\n",
    "              'uid',\n",
    "              'id.orig_h',\n",
    "              'id.orig_p',\n",
    "              'id.resp_h',\n",
    "              'id.resp_p',\n",
    "              'proto',\n",
    "              'service',\n",
    "              'duration',\n",
    "              'orig_bytes',\n",
    "              'resp_bytes',\n",
    "              'conn_state',\n",
    "              'local_orig',\n",
    "              'local_resp',\n",
    "              'missed_bytes',\n",
    "              'history',\n",
    "              'orig_pkts',\n",
    "              'orig_ip_bytes',\n",
    "              'resp_pkts',\n",
    "              'resp_ip_bytes',\n",
    "              'label']\n",
    "df33.drop(df33.tail(1).index,inplace=True)"
   ]
  },
  {
   "cell_type": "code",
   "execution_count": 16,
   "metadata": {},
   "outputs": [],
   "source": [
    "df8 = pd.read_table(filepath_or_buffer=file8, skiprows=10, nrows=1000000)\n",
    "df8.columns=['ts',\n",
    "              'uid',\n",
    "              'id.orig_h',\n",
    "              'id.orig_p',\n",
    "              'id.resp_h',\n",
    "              'id.resp_p',\n",
    "              'proto',\n",
    "              'service',\n",
    "              'duration',\n",
    "              'orig_bytes',\n",
    "              'resp_bytes',\n",
    "              'conn_state',\n",
    "              'local_orig',\n",
    "              'local_resp',\n",
    "              'missed_bytes',\n",
    "              'history',\n",
    "              'orig_pkts',\n",
    "              'orig_ip_bytes',\n",
    "              'resp_pkts',\n",
    "              'resp_ip_bytes',\n",
    "              'label']\n",
    "df8.drop(df8.tail(1).index,inplace=True)"
   ]
  },
  {
   "cell_type": "code",
   "execution_count": 17,
   "metadata": {},
   "outputs": [],
   "source": [
    "df35 = pd.read_table(filepath_or_buffer=file35, skiprows=10, nrows=1000000)\n",
    "df35.columns=['ts',\n",
    "              'uid',\n",
    "              'id.orig_h',\n",
    "              'id.orig_p',\n",
    "              'id.resp_h',\n",
    "              'id.resp_p',\n",
    "              'proto',\n",
    "              'service',\n",
    "              'duration',\n",
    "              'orig_bytes',\n",
    "              'resp_bytes',\n",
    "              'conn_state',\n",
    "              'local_orig',\n",
    "              'local_resp',\n",
    "              'missed_bytes',\n",
    "              'history',\n",
    "              'orig_pkts',\n",
    "              'orig_ip_bytes',\n",
    "              'resp_pkts',\n",
    "              'resp_ip_bytes',\n",
    "              'label']\n",
    "df35.drop(df35.tail(1).index,inplace=True)"
   ]
  },
  {
   "cell_type": "code",
   "execution_count": 18,
   "metadata": {},
   "outputs": [],
   "source": [
    "df48 = pd.read_table(filepath_or_buffer=file48, skiprows=10, nrows=1000000)\n",
    "df48.columns=['ts',\n",
    "              'uid',\n",
    "              'id.orig_h',\n",
    "              'id.orig_p',\n",
    "              'id.resp_h',\n",
    "              'id.resp_p',\n",
    "              'proto',\n",
    "              'service',\n",
    "              'duration',\n",
    "              'orig_bytes',\n",
    "              'resp_bytes',\n",
    "              'conn_state',\n",
    "              'local_orig',\n",
    "              'local_resp',\n",
    "              'missed_bytes',\n",
    "              'history',\n",
    "              'orig_pkts',\n",
    "              'orig_ip_bytes',\n",
    "              'resp_pkts',\n",
    "              'resp_ip_bytes',\n",
    "              'label']\n",
    "df48.drop(df48.tail(1).index,inplace=True)"
   ]
  },
  {
   "cell_type": "code",
   "execution_count": 19,
   "metadata": {},
   "outputs": [],
   "source": [
    "df39 = pd.read_table(filepath_or_buffer=file39, skiprows=10, nrows=1000000)\n",
    "df39.columns=['ts',\n",
    "              'uid',\n",
    "              'id.orig_h',\n",
    "              'id.orig_p',\n",
    "              'id.resp_h',\n",
    "              'id.resp_p',\n",
    "              'proto',\n",
    "              'service',\n",
    "              'duration',\n",
    "              'orig_bytes',\n",
    "              'resp_bytes',\n",
    "              'conn_state',\n",
    "              'local_orig',\n",
    "              'local_resp',\n",
    "              'missed_bytes',\n",
    "              'history',\n",
    "              'orig_pkts',\n",
    "              'orig_ip_bytes',\n",
    "              'resp_pkts',\n",
    "              'resp_ip_bytes',\n",
    "              'label']\n",
    "df39.drop(df39.tail(1).index,inplace=True)"
   ]
  },
  {
   "cell_type": "code",
   "execution_count": 20,
   "metadata": {},
   "outputs": [],
   "source": [
    "df7 = pd.read_table(filepath_or_buffer=file7, skiprows=10, nrows=1000000)\n",
    "df7.columns=['ts',\n",
    "              'uid',\n",
    "              'id.orig_h',\n",
    "              'id.orig_p',\n",
    "              'id.resp_h',\n",
    "              'id.resp_p',\n",
    "              'proto',\n",
    "              'service',\n",
    "              'duration',\n",
    "              'orig_bytes',\n",
    "              'resp_bytes',\n",
    "              'conn_state',\n",
    "              'local_orig',\n",
    "              'local_resp',\n",
    "              'missed_bytes',\n",
    "              'history',\n",
    "              'orig_pkts',\n",
    "              'orig_ip_bytes',\n",
    "              'resp_pkts',\n",
    "              'resp_ip_bytes',\n",
    "              'label']\n",
    "df7.drop(df7.tail(1).index,inplace=True)"
   ]
  },
  {
   "cell_type": "code",
   "execution_count": 21,
   "metadata": {},
   "outputs": [],
   "source": [
    "df9 = pd.read_table(filepath_or_buffer=file9, skiprows=10, nrows=1000000)\n",
    "df9.columns=['ts',\n",
    "              'uid',\n",
    "              'id.orig_h',\n",
    "              'id.orig_p',\n",
    "              'id.resp_h',\n",
    "              'id.resp_p',\n",
    "              'proto',\n",
    "              'service',\n",
    "              'duration',\n",
    "              'orig_bytes',\n",
    "              'resp_bytes',\n",
    "              'conn_state',\n",
    "              'local_orig',\n",
    "              'local_resp',\n",
    "              'missed_bytes',\n",
    "              'history',\n",
    "              'orig_pkts',\n",
    "              'orig_ip_bytes',\n",
    "              'resp_pkts',\n",
    "              'resp_ip_bytes',\n",
    "              'label']\n",
    "df9.drop(df9.tail(1).index,inplace=True)"
   ]
  },
  {
   "cell_type": "code",
   "execution_count": 22,
   "metadata": {},
   "outputs": [
    {
     "name": "stderr",
     "output_type": "stream",
     "text": [
      "C:\\Users\\aksha\\AppData\\Local\\Temp\\ipykernel_7908\\2764960121.py:1: DtypeWarning: Columns (0) have mixed types. Specify dtype option on import or set low_memory=False.\n",
      "  df3 = pd.read_table(filepath_or_buffer=file3, skiprows=10, nrows=1000000)\n"
     ]
    }
   ],
   "source": [
    "df3 = pd.read_table(filepath_or_buffer=file3, skiprows=10, nrows=1000000)\n",
    "df3.columns=['ts',\n",
    "              'uid',\n",
    "              'id.orig_h',\n",
    "              'id.orig_p',\n",
    "              'id.resp_h',\n",
    "              'id.resp_p',\n",
    "              'proto',\n",
    "              'service',\n",
    "              'duration',\n",
    "              'orig_bytes',\n",
    "              'resp_bytes',\n",
    "              'conn_state',\n",
    "              'local_orig',\n",
    "              'local_resp',\n",
    "              'missed_bytes',\n",
    "              'history',\n",
    "              'orig_pkts',\n",
    "              'orig_ip_bytes',\n",
    "              'resp_pkts',\n",
    "              'resp_ip_bytes',\n",
    "              'label']\n",
    "df3.drop(df3.tail(1).index,inplace=True)"
   ]
  },
  {
   "cell_type": "code",
   "execution_count": 23,
   "metadata": {},
   "outputs": [],
   "source": [
    "df1 = pd.read_table(filepath_or_buffer=file1, skiprows=10, nrows=1000000)\n",
    "df1.columns=['ts',\n",
    "              'uid',\n",
    "              'id.orig_h',\n",
    "              'id.orig_p',\n",
    "              'id.resp_h',\n",
    "              'id.resp_p',\n",
    "              'proto',\n",
    "              'service',\n",
    "              'duration',\n",
    "              'orig_bytes',\n",
    "              'resp_bytes',\n",
    "              'conn_state',\n",
    "              'local_orig',\n",
    "              'local_resp',\n",
    "              'missed_bytes',\n",
    "              'history',\n",
    "              'orig_pkts',\n",
    "              'orig_ip_bytes',\n",
    "              'resp_pkts',\n",
    "              'resp_ip_bytes',\n",
    "              'label']\n",
    "df1.drop(df1.tail(1).index,inplace=True)"
   ]
  },
  {
   "attachments": {},
   "cell_type": "markdown",
   "metadata": {},
   "source": [
    "## Creating Frames"
   ]
  },
  {
   "cell_type": "code",
   "execution_count": 24,
   "metadata": {},
   "outputs": [],
   "source": [
    "frames=[df1, df17, df20, df21, df3, df33, df34, df35, df36, df39, df42, df43, df44, df48, df49, df52, df60, df7, df8, df9]"
   ]
  },
  {
   "attachments": {},
   "cell_type": "markdown",
   "metadata": {},
   "source": [
    "## Concatenating frames"
   ]
  },
  {
   "cell_type": "code",
   "execution_count": 25,
   "metadata": {},
   "outputs": [],
   "source": [
    "df_c = pd.concat(frames)"
   ]
  },
  {
   "cell_type": "code",
   "execution_count": 26,
   "metadata": {},
   "outputs": [
    {
     "data": {
      "text/plain": [
       "(13200775, 23)"
      ]
     },
     "execution_count": 26,
     "metadata": {},
     "output_type": "execute_result"
    }
   ],
   "source": [
    "df_c.shape"
   ]
  },
  {
   "cell_type": "code",
   "execution_count": 27,
   "metadata": {},
   "outputs": [
    {
     "data": {
      "text/html": [
       "<div>\n",
       "<style scoped>\n",
       "    .dataframe tbody tr th:only-of-type {\n",
       "        vertical-align: middle;\n",
       "    }\n",
       "\n",
       "    .dataframe tbody tr th {\n",
       "        vertical-align: top;\n",
       "    }\n",
       "\n",
       "    .dataframe thead th {\n",
       "        text-align: right;\n",
       "    }\n",
       "</style>\n",
       "<table border=\"1\" class=\"dataframe\">\n",
       "  <thead>\n",
       "    <tr style=\"text-align: right;\">\n",
       "      <th></th>\n",
       "      <th>ts</th>\n",
       "      <th>uid</th>\n",
       "      <th>id.orig_h</th>\n",
       "      <th>id.orig_p</th>\n",
       "      <th>id.resp_h</th>\n",
       "      <th>id.resp_p</th>\n",
       "      <th>proto</th>\n",
       "      <th>service</th>\n",
       "      <th>duration</th>\n",
       "      <th>orig_bytes</th>\n",
       "      <th>...</th>\n",
       "      <th>local_resp</th>\n",
       "      <th>missed_bytes</th>\n",
       "      <th>history</th>\n",
       "      <th>orig_pkts</th>\n",
       "      <th>orig_ip_bytes</th>\n",
       "      <th>resp_pkts</th>\n",
       "      <th>resp_ip_bytes</th>\n",
       "      <th>label</th>\n",
       "      <th>id_orig_h</th>\n",
       "      <th>misses_bytes</th>\n",
       "    </tr>\n",
       "  </thead>\n",
       "  <tbody>\n",
       "    <tr>\n",
       "      <th>0</th>\n",
       "      <td>1525879832.01624</td>\n",
       "      <td>CDe43c1PtgynajGI6</td>\n",
       "      <td>192.168.100.103</td>\n",
       "      <td>60905.0</td>\n",
       "      <td>131.174.215.147</td>\n",
       "      <td>23.0</td>\n",
       "      <td>tcp</td>\n",
       "      <td>-</td>\n",
       "      <td>2.998796</td>\n",
       "      <td>0</td>\n",
       "      <td>...</td>\n",
       "      <td>-</td>\n",
       "      <td>0.0</td>\n",
       "      <td>S</td>\n",
       "      <td>3.0</td>\n",
       "      <td>180.0</td>\n",
       "      <td>0.0</td>\n",
       "      <td>0.0</td>\n",
       "      <td>(empty)   Malicious   PartOfAHorizontalPortScan</td>\n",
       "      <td>NaN</td>\n",
       "      <td>NaN</td>\n",
       "    </tr>\n",
       "    <tr>\n",
       "      <th>1</th>\n",
       "      <td>1525879832.024985</td>\n",
       "      <td>CJaDcG3MZzvf1YVYI4</td>\n",
       "      <td>192.168.100.103</td>\n",
       "      <td>44301.0</td>\n",
       "      <td>91.42.47.63</td>\n",
       "      <td>23.0</td>\n",
       "      <td>tcp</td>\n",
       "      <td>-</td>\n",
       "      <td>-</td>\n",
       "      <td>-</td>\n",
       "      <td>...</td>\n",
       "      <td>-</td>\n",
       "      <td>0.0</td>\n",
       "      <td>S</td>\n",
       "      <td>1.0</td>\n",
       "      <td>60.0</td>\n",
       "      <td>0.0</td>\n",
       "      <td>0.0</td>\n",
       "      <td>(empty)   Malicious   PartOfAHorizontalPortScan</td>\n",
       "      <td>NaN</td>\n",
       "      <td>NaN</td>\n",
       "    </tr>\n",
       "    <tr>\n",
       "      <th>2</th>\n",
       "      <td>1525879832.044975</td>\n",
       "      <td>CMBrup3BLXivSp4Avc</td>\n",
       "      <td>192.168.100.103</td>\n",
       "      <td>50244.0</td>\n",
       "      <td>120.210.108.200</td>\n",
       "      <td>23.0</td>\n",
       "      <td>tcp</td>\n",
       "      <td>-</td>\n",
       "      <td>-</td>\n",
       "      <td>-</td>\n",
       "      <td>...</td>\n",
       "      <td>-</td>\n",
       "      <td>0.0</td>\n",
       "      <td>S</td>\n",
       "      <td>1.0</td>\n",
       "      <td>60.0</td>\n",
       "      <td>0.0</td>\n",
       "      <td>0.0</td>\n",
       "      <td>(empty)   Malicious   PartOfAHorizontalPortScan</td>\n",
       "      <td>NaN</td>\n",
       "      <td>NaN</td>\n",
       "    </tr>\n",
       "    <tr>\n",
       "      <th>3</th>\n",
       "      <td>1525879833.016171</td>\n",
       "      <td>CfHl9r3XMYtDQRrHnh</td>\n",
       "      <td>192.168.100.103</td>\n",
       "      <td>34243.0</td>\n",
       "      <td>147.7.65.203</td>\n",
       "      <td>49560.0</td>\n",
       "      <td>tcp</td>\n",
       "      <td>-</td>\n",
       "      <td>2.998804</td>\n",
       "      <td>0</td>\n",
       "      <td>...</td>\n",
       "      <td>-</td>\n",
       "      <td>0.0</td>\n",
       "      <td>S</td>\n",
       "      <td>3.0</td>\n",
       "      <td>180.0</td>\n",
       "      <td>0.0</td>\n",
       "      <td>0.0</td>\n",
       "      <td>(empty)   Benign   -</td>\n",
       "      <td>NaN</td>\n",
       "      <td>NaN</td>\n",
       "    </tr>\n",
       "    <tr>\n",
       "      <th>4</th>\n",
       "      <td>1525879833.044906</td>\n",
       "      <td>C7USrA15nFVkniMqC5</td>\n",
       "      <td>192.168.100.103</td>\n",
       "      <td>34840.0</td>\n",
       "      <td>145.164.35.6</td>\n",
       "      <td>21288.0</td>\n",
       "      <td>tcp</td>\n",
       "      <td>-</td>\n",
       "      <td>-</td>\n",
       "      <td>-</td>\n",
       "      <td>...</td>\n",
       "      <td>-</td>\n",
       "      <td>0.0</td>\n",
       "      <td>S</td>\n",
       "      <td>1.0</td>\n",
       "      <td>60.0</td>\n",
       "      <td>0.0</td>\n",
       "      <td>0.0</td>\n",
       "      <td>(empty)   Benign   -</td>\n",
       "      <td>NaN</td>\n",
       "      <td>NaN</td>\n",
       "    </tr>\n",
       "  </tbody>\n",
       "</table>\n",
       "<p>5 rows × 23 columns</p>\n",
       "</div>"
      ],
      "text/plain": [
       "                  ts                 uid        id.orig_h  id.orig_p  \\\n",
       "0   1525879832.01624   CDe43c1PtgynajGI6  192.168.100.103    60905.0   \n",
       "1  1525879832.024985  CJaDcG3MZzvf1YVYI4  192.168.100.103    44301.0   \n",
       "2  1525879832.044975  CMBrup3BLXivSp4Avc  192.168.100.103    50244.0   \n",
       "3  1525879833.016171  CfHl9r3XMYtDQRrHnh  192.168.100.103    34243.0   \n",
       "4  1525879833.044906  C7USrA15nFVkniMqC5  192.168.100.103    34840.0   \n",
       "\n",
       "         id.resp_h  id.resp_p proto service  duration orig_bytes  ...  \\\n",
       "0  131.174.215.147       23.0   tcp       -  2.998796          0  ...   \n",
       "1      91.42.47.63       23.0   tcp       -         -          -  ...   \n",
       "2  120.210.108.200       23.0   tcp       -         -          -  ...   \n",
       "3     147.7.65.203    49560.0   tcp       -  2.998804          0  ...   \n",
       "4     145.164.35.6    21288.0   tcp       -         -          -  ...   \n",
       "\n",
       "  local_resp missed_bytes history orig_pkts  orig_ip_bytes resp_pkts  \\\n",
       "0          -          0.0       S       3.0          180.0       0.0   \n",
       "1          -          0.0       S       1.0           60.0       0.0   \n",
       "2          -          0.0       S       1.0           60.0       0.0   \n",
       "3          -          0.0       S       3.0          180.0       0.0   \n",
       "4          -          0.0       S       1.0           60.0       0.0   \n",
       "\n",
       "   resp_ip_bytes                                            label  id_orig_h  \\\n",
       "0            0.0  (empty)   Malicious   PartOfAHorizontalPortScan        NaN   \n",
       "1            0.0  (empty)   Malicious   PartOfAHorizontalPortScan        NaN   \n",
       "2            0.0  (empty)   Malicious   PartOfAHorizontalPortScan        NaN   \n",
       "3            0.0                             (empty)   Benign   -        NaN   \n",
       "4            0.0                             (empty)   Benign   -        NaN   \n",
       "\n",
       "   misses_bytes  \n",
       "0           NaN  \n",
       "1           NaN  \n",
       "2           NaN  \n",
       "3           NaN  \n",
       "4           NaN  \n",
       "\n",
       "[5 rows x 23 columns]"
      ]
     },
     "execution_count": 27,
     "metadata": {},
     "output_type": "execute_result"
    }
   ],
   "source": [
    "df_c.head()"
   ]
  },
  {
   "cell_type": "code",
   "execution_count": 28,
   "metadata": {},
   "outputs": [
    {
     "data": {
      "text/plain": [
       "<Axes: xlabel='label', ylabel='count'>"
      ]
     },
     "execution_count": 28,
     "metadata": {},
     "output_type": "execute_result"
    },
    {
     "data": {
      "image/png": "[encoded data removed]",
      "text/plain": [
       "<Figure size 2500x900 with 1 Axes>"
      ]
     },
     "metadata": {},
     "output_type": "display_data"
    }
   ],
   "source": [
    "plt.figure(figsize = (25,9))\n",
    "sns.countplot(x = df_c['label'])"
   ]
  },
  {
   "cell_type": "code",
   "execution_count": 29,
   "metadata": {},
   "outputs": [
    {
     "data": {
      "text/plain": [
       "-   Malicious   PartOfAHorizontalPortScan          5783121\n",
       "(empty)   Malicious   PartOfAHorizontalPortScan    1676101\n",
       "-   Malicious   Okiru                              1628670\n",
       "-   Benign   -                                     1349659\n",
       "-   Malicious   DDoS                               1263025\n",
       "(empty)   Malicious   Okiru                         997587\n",
       "(empty)   Benign   -                                477486\n",
       "(empty)   Malicious   C&C                             8238\n",
       "-   Malicious   C&C                                   7282\n",
       "(empty)   Malicious   Attack                          5962\n",
       "-   Malicious   C&C-HeartBeat                         1438\n",
       "(empty)   Malicious   C&C-HeartBeat                   1123\n",
       "-   Malicious   Attack                                 981\n",
       "-   Malicious   C&C-FileDownload                        46\n",
       "-   Malicious   C&C-Torii                               30\n",
       "-   Malicious   FileDownload                            14\n",
       "-   Malicious   C&C-HeartBeat-FileDownload               8\n",
       "-   Malicious   Okiru-Attack                             3\n",
       "-   Malicious   C&C-Mirai                                1\n",
       "Name: label, dtype: int64"
      ]
     },
     "execution_count": 29,
     "metadata": {},
     "output_type": "execute_result"
    }
   ],
   "source": [
    "df_c['label'].value_counts()"
   ]
  },
  {
   "cell_type": "code",
   "execution_count": 30,
   "metadata": {},
   "outputs": [],
   "source": [
    "df_c.loc[(df_c.label == '-   Malicious   PartOfAHorizontalPortScan'), 'label'] = 'PartOfAHorizontalPortScan'\n",
    "df_c.loc[(df_c.label == '(empty)   Malicious   PartOfAHorizontalPortScan'), 'label'] = 'PartOfAHorizontalPortScan'\n",
    "df_c.loc[(df_c.label == '-   Malicious   Okiru'), 'label'] = 'Okiru'\n",
    "df_c.loc[(df_c.label == '(empty)   Malicious   Okiru'), 'label'] = 'Okiru'\n",
    "df_c.loc[(df_c.label == '-   Benign   -'), 'label'] = 'Benign'\n",
    "df_c.loc[(df_c.label == '(empty)   Benign   -'), 'label'] = 'Benign'\n",
    "df_c.loc[(df_c.label == '-   Malicious   DDoS'), 'label'] = 'DDoS'\n",
    "df_c.loc[(df_c.label == '-   Malicious   C&C'), 'label'] = 'C&C'\n",
    "df_c.loc[(df_c.label == '(empty)   Malicious   C&C'), 'label'] = 'C&C'\n",
    "df_c.loc[(df_c.label == '-   Malicious   Attack'), 'label'] = 'Attack'\n",
    "df_c.loc[(df_c.label == '(empty)   Malicious   Attack'), 'label'] = 'Attack'\n",
    "df_c.loc[(df_c.label == '-   Malicious   C&C-HeartBeat'), 'label'] = 'C&C-HeartBeat'\n",
    "df_c.loc[(df_c.label == '(empty)   Malicious   C&C-HeartBeat'), 'label'] = 'C&C-HeartBeat'\n",
    "df_c.loc[(df_c.label == '-   Malicious   C&C-FileDownload'), 'label'] = 'C&C-FileDownload'\n",
    "df_c.loc[(df_c.label == '-   Malicious   C&C-Torii'), 'label'] = 'C&C-Torii'\n",
    "df_c.loc[(df_c.label == '-   Malicious   C&C-HeartBeat-FileDownload'), 'label'] = 'C&C-HeartBeat-FileDownload'\n",
    "df_c.loc[(df_c.label == '-   Malicious   FileDownload'), 'label'] = 'FileDownload'\n",
    "df_c.loc[(df_c.label == '-   Malicious   C&C-Mirai'), 'label'] = 'C&C-Mirai'\n",
    "df_c.loc[(df_c.label == '-   Malicious   Okiru-Attack'), 'label'] = 'Okiru-Attack'"
   ]
  },
  {
   "cell_type": "code",
   "execution_count": 31,
   "metadata": {},
   "outputs": [
    {
     "data": {
      "text/plain": [
       "PartOfAHorizontalPortScan     7459222\n",
       "Okiru                         2626257\n",
       "Benign                        1827145\n",
       "DDoS                          1263025\n",
       "C&C                             15520\n",
       "Attack                           6943\n",
       "C&C-HeartBeat                    2561\n",
       "C&C-FileDownload                   46\n",
       "C&C-Torii                          30\n",
       "FileDownload                       14\n",
       "C&C-HeartBeat-FileDownload          8\n",
       "Okiru-Attack                        3\n",
       "C&C-Mirai                           1\n",
       "Name: label, dtype: int64"
      ]
     },
     "execution_count": 31,
     "metadata": {},
     "output_type": "execute_result"
    }
   ],
   "source": [
    "df_c['label'].value_counts()"
   ]
  },
  {
   "cell_type": "code",
   "execution_count": 32,
   "metadata": {},
   "outputs": [
    {
     "data": {
      "text/plain": [
       "<Axes: xlabel='label', ylabel='count'>"
      ]
     },
     "execution_count": 32,
     "metadata": {},
     "output_type": "execute_result"
    },
    {
     "data": {
      "image/png": "[encoded data removed]",
      "text/plain": [
       "<Figure size 2700x1200 with 1 Axes>"
      ]
     },
     "metadata": {},
     "output_type": "display_data"
    }
   ],
   "source": [
    "plt.figure(figsize = (27,12))\n",
    "sns.countplot(x = df_c['label'])"
   ]
  },
  {
   "cell_type": "code",
   "execution_count": 33,
   "metadata": {},
   "outputs": [],
   "source": [
    "pd.options.display.max_rows = 300\n",
    "pd.options.display.max_columns = 300"
   ]
  },
  {
   "cell_type": "code",
   "execution_count": 34,
   "metadata": {},
   "outputs": [],
   "source": [
    "df_c = df_c.drop(columns=['ts','uid','id.orig_h','id.orig_p','id.resp_h','id.resp_p',\n",
    "                               'service','local_orig','local_resp','history'])"
   ]
  },
  {
   "cell_type": "code",
   "execution_count": 35,
   "metadata": {},
   "outputs": [
    {
     "data": {
      "text/plain": [
       "tcp     12754480\n",
       "udp       424719\n",
       "icmp       21576\n",
       "Name: proto, dtype: int64"
      ]
     },
     "execution_count": 35,
     "metadata": {},
     "output_type": "execute_result"
    }
   ],
   "source": [
    "df_c['proto'].value_counts()"
   ]
  },
  {
   "cell_type": "code",
   "execution_count": 36,
   "metadata": {},
   "outputs": [
    {
     "data": {
      "text/plain": [
       "S0        12116731\n",
       "OTH        1035298\n",
       "SF           32095\n",
       "REJ          11412\n",
       "S3            2457\n",
       "RSTR          1827\n",
       "RSTO           376\n",
       "RSTOS0         273\n",
       "S1              89\n",
       "S2              86\n",
       "RSTRH           67\n",
       "SH              62\n",
       "SHR              2\n",
       "Name: conn_state, dtype: int64"
      ]
     },
     "execution_count": 36,
     "metadata": {},
     "output_type": "execute_result"
    }
   ],
   "source": [
    "df_c['conn_state'].value_counts()"
   ]
  },
  {
   "cell_type": "code",
   "execution_count": 37,
   "metadata": {},
   "outputs": [],
   "source": [
    "le = LabelEncoder()\n",
    "df_c['conn_state_encoded'] = le.fit_transform(df_c['conn_state'])\n",
    "\n",
    "# fit and transform the 'proto' column\n",
    "df_c['proto_encoded'] = le.fit_transform(df_c['proto'])"
   ]
  },
  {
   "cell_type": "code",
   "execution_count": 38,
   "metadata": {},
   "outputs": [
    {
     "data": {
      "text/plain": [
       "1    12754480\n",
       "2      424719\n",
       "0       21576\n",
       "Name: proto_encoded, dtype: int64"
      ]
     },
     "execution_count": 38,
     "metadata": {},
     "output_type": "execute_result"
    }
   ],
   "source": [
    "df_c['proto_encoded'].value_counts()"
   ]
  },
  {
   "cell_type": "code",
   "execution_count": 41,
   "metadata": {},
   "outputs": [
    {
     "data": {
      "text/plain": [
       "6     12116731\n",
       "0      1035298\n",
       "10       32095\n",
       "1        11412\n",
       "9         2457\n",
       "4         1827\n",
       "2          376\n",
       "3          273\n",
       "7           89\n",
       "8           86\n",
       "5           67\n",
       "11          62\n",
       "12           2\n",
       "Name: conn_state_encoded, dtype: int64"
      ]
     },
     "execution_count": 41,
     "metadata": {},
     "output_type": "execute_result"
    }
   ],
   "source": [
    "df_c['conn_state_encoded'].value_counts()"
   ]
  },
  {
   "cell_type": "code",
   "execution_count": 40,
   "metadata": {},
   "outputs": [
    {
     "data": {
      "text/plain": [
       "(13200775, 15)"
      ]
     },
     "execution_count": 40,
     "metadata": {},
     "output_type": "execute_result"
    }
   ],
   "source": [
    "df_c.shape"
   ]
  },
  {
   "cell_type": "code",
   "execution_count": 37,
   "metadata": {},
   "outputs": [
    {
     "data": {
      "text/html": [
       "<div>\n",
       "<style scoped>\n",
       "    .dataframe tbody tr th:only-of-type {\n",
       "        vertical-align: middle;\n",
       "    }\n",
       "\n",
       "    .dataframe tbody tr th {\n",
       "        vertical-align: top;\n",
       "    }\n",
       "\n",
       "    .dataframe thead th {\n",
       "        text-align: right;\n",
       "    }\n",
       "</style>\n",
       "<table border=\"1\" class=\"dataframe\">\n",
       "  <thead>\n",
       "    <tr style=\"text-align: right;\">\n",
       "      <th></th>\n",
       "      <th>proto</th>\n",
       "      <th>duration</th>\n",
       "      <th>orig_bytes</th>\n",
       "      <th>resp_bytes</th>\n",
       "      <th>conn_state</th>\n",
       "      <th>missed_bytes</th>\n",
       "      <th>orig_pkts</th>\n",
       "      <th>orig_ip_bytes</th>\n",
       "      <th>resp_pkts</th>\n",
       "      <th>resp_ip_bytes</th>\n",
       "      <th>label</th>\n",
       "      <th>id_orig_h</th>\n",
       "      <th>misses_bytes</th>\n",
       "      <th>conn_state_encoded</th>\n",
       "      <th>proto_encoded</th>\n",
       "    </tr>\n",
       "  </thead>\n",
       "  <tbody>\n",
       "    <tr>\n",
       "      <th>0</th>\n",
       "      <td>tcp</td>\n",
       "      <td>2.998796</td>\n",
       "      <td>0</td>\n",
       "      <td>0</td>\n",
       "      <td>S0</td>\n",
       "      <td>0.0</td>\n",
       "      <td>3.0</td>\n",
       "      <td>180.0</td>\n",
       "      <td>0.0</td>\n",
       "      <td>0.0</td>\n",
       "      <td>PartOfAHorizontalPortScan</td>\n",
       "      <td>NaN</td>\n",
       "      <td>NaN</td>\n",
       "      <td>6</td>\n",
       "      <td>1</td>\n",
       "    </tr>\n",
       "    <tr>\n",
       "      <th>1</th>\n",
       "      <td>tcp</td>\n",
       "      <td>-</td>\n",
       "      <td>-</td>\n",
       "      <td>-</td>\n",
       "      <td>S0</td>\n",
       "      <td>0.0</td>\n",
       "      <td>1.0</td>\n",
       "      <td>60.0</td>\n",
       "      <td>0.0</td>\n",
       "      <td>0.0</td>\n",
       "      <td>PartOfAHorizontalPortScan</td>\n",
       "      <td>NaN</td>\n",
       "      <td>NaN</td>\n",
       "      <td>6</td>\n",
       "      <td>1</td>\n",
       "    </tr>\n",
       "    <tr>\n",
       "      <th>2</th>\n",
       "      <td>tcp</td>\n",
       "      <td>-</td>\n",
       "      <td>-</td>\n",
       "      <td>-</td>\n",
       "      <td>S0</td>\n",
       "      <td>0.0</td>\n",
       "      <td>1.0</td>\n",
       "      <td>60.0</td>\n",
       "      <td>0.0</td>\n",
       "      <td>0.0</td>\n",
       "      <td>PartOfAHorizontalPortScan</td>\n",
       "      <td>NaN</td>\n",
       "      <td>NaN</td>\n",
       "      <td>6</td>\n",
       "      <td>1</td>\n",
       "    </tr>\n",
       "    <tr>\n",
       "      <th>3</th>\n",
       "      <td>tcp</td>\n",
       "      <td>2.998804</td>\n",
       "      <td>0</td>\n",
       "      <td>0</td>\n",
       "      <td>S0</td>\n",
       "      <td>0.0</td>\n",
       "      <td>3.0</td>\n",
       "      <td>180.0</td>\n",
       "      <td>0.0</td>\n",
       "      <td>0.0</td>\n",
       "      <td>Benign</td>\n",
       "      <td>NaN</td>\n",
       "      <td>NaN</td>\n",
       "      <td>6</td>\n",
       "      <td>1</td>\n",
       "    </tr>\n",
       "    <tr>\n",
       "      <th>4</th>\n",
       "      <td>tcp</td>\n",
       "      <td>-</td>\n",
       "      <td>-</td>\n",
       "      <td>-</td>\n",
       "      <td>S0</td>\n",
       "      <td>0.0</td>\n",
       "      <td>1.0</td>\n",
       "      <td>60.0</td>\n",
       "      <td>0.0</td>\n",
       "      <td>0.0</td>\n",
       "      <td>Benign</td>\n",
       "      <td>NaN</td>\n",
       "      <td>NaN</td>\n",
       "      <td>6</td>\n",
       "      <td>1</td>\n",
       "    </tr>\n",
       "  </tbody>\n",
       "</table>\n",
       "</div>"
      ],
      "text/plain": [
       "  proto  duration orig_bytes resp_bytes conn_state  missed_bytes  orig_pkts  \\\n",
       "0   tcp  2.998796          0          0         S0           0.0        3.0   \n",
       "1   tcp         -          -          -         S0           0.0        1.0   \n",
       "2   tcp         -          -          -         S0           0.0        1.0   \n",
       "3   tcp  2.998804          0          0         S0           0.0        3.0   \n",
       "4   tcp         -          -          -         S0           0.0        1.0   \n",
       "\n",
       "   orig_ip_bytes  resp_pkts  resp_ip_bytes                      label  \\\n",
       "0          180.0        0.0            0.0  PartOfAHorizontalPortScan   \n",
       "1           60.0        0.0            0.0  PartOfAHorizontalPortScan   \n",
       "2           60.0        0.0            0.0  PartOfAHorizontalPortScan   \n",
       "3          180.0        0.0            0.0                     Benign   \n",
       "4           60.0        0.0            0.0                     Benign   \n",
       "\n",
       "  id_orig_h  misses_bytes  conn_state_encoded  proto_encoded  \n",
       "0       NaN           NaN                   6              1  \n",
       "1       NaN           NaN                   6              1  \n",
       "2       NaN           NaN                   6              1  \n",
       "3       NaN           NaN                   6              1  \n",
       "4       NaN           NaN                   6              1  "
      ]
     },
     "execution_count": 37,
     "metadata": {},
     "output_type": "execute_result"
    }
   ],
   "source": [
    "df_c.head()"
   ]
  },
  {
   "cell_type": "code",
   "execution_count": 38,
   "metadata": {},
   "outputs": [],
   "source": [
    "df_c['duration'] = df_c['duration'].str.replace('-','0')\n",
    "df_c['orig_bytes'] = df_c['orig_bytes'].str.replace('-','0')\n",
    "df_c['resp_bytes'] = df_c['resp_bytes'].str.replace('-','0')"
   ]
  },
  {
   "cell_type": "code",
   "execution_count": 39,
   "metadata": {},
   "outputs": [],
   "source": [
    "df_c.fillna(-1,inplace=True)"
   ]
  },
  {
   "attachments": {},
   "cell_type": "markdown",
   "metadata": {},
   "source": [
    "## Checking for null values "
   ]
  },
  {
   "cell_type": "code",
   "execution_count": 40,
   "metadata": {},
   "outputs": [
    {
     "data": {
      "text/plain": [
       "proto                 0\n",
       "duration              0\n",
       "orig_bytes            0\n",
       "resp_bytes            0\n",
       "conn_state            0\n",
       "missed_bytes          0\n",
       "orig_pkts             0\n",
       "orig_ip_bytes         0\n",
       "resp_pkts             0\n",
       "resp_ip_bytes         0\n",
       "label                 0\n",
       "id_orig_h             0\n",
       "misses_bytes          0\n",
       "conn_state_encoded    0\n",
       "proto_encoded         0\n",
       "dtype: int64"
      ]
     },
     "execution_count": 40,
     "metadata": {},
     "output_type": "execute_result"
    }
   ],
   "source": [
    "df_c.isna().sum()"
   ]
  },
  {
   "cell_type": "code",
   "execution_count": 41,
   "metadata": {},
   "outputs": [
    {
     "name": "stdout",
     "output_type": "stream",
     "text": [
      "['proto', 'duration', 'orig_bytes', 'resp_bytes', 'conn_state', 'missed_bytes', 'orig_pkts', 'orig_ip_bytes', 'resp_pkts', 'resp_ip_bytes', 'label', 'id_orig_h', 'misses_bytes', 'conn_state_encoded', 'proto_encoded']\n"
     ]
    }
   ],
   "source": [
    "print(df_c.columns.tolist())"
   ]
  },
  {
   "cell_type": "code",
   "execution_count": 42,
   "metadata": {},
   "outputs": [
    {
     "data": {
      "text/html": [
       "<div>\n",
       "<style scoped>\n",
       "    .dataframe tbody tr th:only-of-type {\n",
       "        vertical-align: middle;\n",
       "    }\n",
       "\n",
       "    .dataframe tbody tr th {\n",
       "        vertical-align: top;\n",
       "    }\n",
       "\n",
       "    .dataframe thead th {\n",
       "        text-align: right;\n",
       "    }\n",
       "</style>\n",
       "<table border=\"1\" class=\"dataframe\">\n",
       "  <thead>\n",
       "    <tr style=\"text-align: right;\">\n",
       "      <th></th>\n",
       "      <th>proto</th>\n",
       "      <th>duration</th>\n",
       "      <th>orig_bytes</th>\n",
       "      <th>resp_bytes</th>\n",
       "      <th>conn_state</th>\n",
       "      <th>missed_bytes</th>\n",
       "      <th>orig_pkts</th>\n",
       "      <th>orig_ip_bytes</th>\n",
       "      <th>resp_pkts</th>\n",
       "      <th>resp_ip_bytes</th>\n",
       "      <th>label</th>\n",
       "      <th>id_orig_h</th>\n",
       "      <th>misses_bytes</th>\n",
       "      <th>conn_state_encoded</th>\n",
       "      <th>proto_encoded</th>\n",
       "    </tr>\n",
       "  </thead>\n",
       "  <tbody>\n",
       "    <tr>\n",
       "      <th>0</th>\n",
       "      <td>tcp</td>\n",
       "      <td>2.998796</td>\n",
       "      <td>0</td>\n",
       "      <td>0</td>\n",
       "      <td>S0</td>\n",
       "      <td>0.0</td>\n",
       "      <td>3.0</td>\n",
       "      <td>180.0</td>\n",
       "      <td>0.0</td>\n",
       "      <td>0.0</td>\n",
       "      <td>PartOfAHorizontalPortScan</td>\n",
       "      <td>-1</td>\n",
       "      <td>-1.0</td>\n",
       "      <td>6</td>\n",
       "      <td>1</td>\n",
       "    </tr>\n",
       "    <tr>\n",
       "      <th>1</th>\n",
       "      <td>tcp</td>\n",
       "      <td>0</td>\n",
       "      <td>0</td>\n",
       "      <td>0</td>\n",
       "      <td>S0</td>\n",
       "      <td>0.0</td>\n",
       "      <td>1.0</td>\n",
       "      <td>60.0</td>\n",
       "      <td>0.0</td>\n",
       "      <td>0.0</td>\n",
       "      <td>PartOfAHorizontalPortScan</td>\n",
       "      <td>-1</td>\n",
       "      <td>-1.0</td>\n",
       "      <td>6</td>\n",
       "      <td>1</td>\n",
       "    </tr>\n",
       "    <tr>\n",
       "      <th>2</th>\n",
       "      <td>tcp</td>\n",
       "      <td>0</td>\n",
       "      <td>0</td>\n",
       "      <td>0</td>\n",
       "      <td>S0</td>\n",
       "      <td>0.0</td>\n",
       "      <td>1.0</td>\n",
       "      <td>60.0</td>\n",
       "      <td>0.0</td>\n",
       "      <td>0.0</td>\n",
       "      <td>PartOfAHorizontalPortScan</td>\n",
       "      <td>-1</td>\n",
       "      <td>-1.0</td>\n",
       "      <td>6</td>\n",
       "      <td>1</td>\n",
       "    </tr>\n",
       "    <tr>\n",
       "      <th>3</th>\n",
       "      <td>tcp</td>\n",
       "      <td>2.998804</td>\n",
       "      <td>0</td>\n",
       "      <td>0</td>\n",
       "      <td>S0</td>\n",
       "      <td>0.0</td>\n",
       "      <td>3.0</td>\n",
       "      <td>180.0</td>\n",
       "      <td>0.0</td>\n",
       "      <td>0.0</td>\n",
       "      <td>Benign</td>\n",
       "      <td>-1</td>\n",
       "      <td>-1.0</td>\n",
       "      <td>6</td>\n",
       "      <td>1</td>\n",
       "    </tr>\n",
       "    <tr>\n",
       "      <th>4</th>\n",
       "      <td>tcp</td>\n",
       "      <td>0</td>\n",
       "      <td>0</td>\n",
       "      <td>0</td>\n",
       "      <td>S0</td>\n",
       "      <td>0.0</td>\n",
       "      <td>1.0</td>\n",
       "      <td>60.0</td>\n",
       "      <td>0.0</td>\n",
       "      <td>0.0</td>\n",
       "      <td>Benign</td>\n",
       "      <td>-1</td>\n",
       "      <td>-1.0</td>\n",
       "      <td>6</td>\n",
       "      <td>1</td>\n",
       "    </tr>\n",
       "  </tbody>\n",
       "</table>\n",
       "</div>"
      ],
      "text/plain": [
       "  proto  duration orig_bytes resp_bytes conn_state  missed_bytes  orig_pkts  \\\n",
       "0   tcp  2.998796          0          0         S0           0.0        3.0   \n",
       "1   tcp         0          0          0         S0           0.0        1.0   \n",
       "2   tcp         0          0          0         S0           0.0        1.0   \n",
       "3   tcp  2.998804          0          0         S0           0.0        3.0   \n",
       "4   tcp         0          0          0         S0           0.0        1.0   \n",
       "\n",
       "   orig_ip_bytes  resp_pkts  resp_ip_bytes                      label  \\\n",
       "0          180.0        0.0            0.0  PartOfAHorizontalPortScan   \n",
       "1           60.0        0.0            0.0  PartOfAHorizontalPortScan   \n",
       "2           60.0        0.0            0.0  PartOfAHorizontalPortScan   \n",
       "3          180.0        0.0            0.0                     Benign   \n",
       "4           60.0        0.0            0.0                     Benign   \n",
       "\n",
       "  id_orig_h  misses_bytes  conn_state_encoded  proto_encoded  \n",
       "0        -1          -1.0                   6              1  \n",
       "1        -1          -1.0                   6              1  \n",
       "2        -1          -1.0                   6              1  \n",
       "3        -1          -1.0                   6              1  \n",
       "4        -1          -1.0                   6              1  "
      ]
     },
     "execution_count": 42,
     "metadata": {},
     "output_type": "execute_result"
    }
   ],
   "source": [
    "df_c.head()"
   ]
  },
  {
   "attachments": {},
   "cell_type": "markdown",
   "metadata": {},
   "source": [
    "## Delete id_orig_h column"
   ]
  },
  {
   "cell_type": "code",
   "execution_count": 43,
   "metadata": {},
   "outputs": [],
   "source": [
    "del df_c['id_orig_h']"
   ]
  },
  {
   "cell_type": "code",
   "execution_count": 44,
   "metadata": {},
   "outputs": [],
   "source": [
    "del df_c['conn_state']\n",
    "del df_c['proto']"
   ]
  },
  {
   "cell_type": "code",
   "execution_count": 45,
   "metadata": {},
   "outputs": [
    {
     "data": {
      "text/plain": [
       "(13200775, 12)"
      ]
     },
     "execution_count": 45,
     "metadata": {},
     "output_type": "execute_result"
    }
   ],
   "source": [
    "df_c.shape"
   ]
  },
  {
   "attachments": {},
   "cell_type": "markdown",
   "metadata": {},
   "source": [
    "## Save the csv file for model comparision"
   ]
  },
  {
   "cell_type": "code",
   "execution_count": 46,
   "metadata": {},
   "outputs": [],
   "source": [
    "# # Save the modified dataframe to a new CSV file\n",
    "df_c.to_csv('D:\\CYBER ATTACK DETECTION PROJECT\\DATASET\\\\Final Dataset for comparision.csv', index=False)"
   ]
  }
 ],
 "metadata": {
  "kernelspec": {
   "display_name": "Python 3",
   "language": "python",
   "name": "python3"
  },
  "language_info": {
   "codemirror_mode": {
    "name": "ipython",
    "version": 3
   },
   "file_extension": ".py",
   "mimetype": "text/x-python",
   "name": "python",
   "nbconvert_exporter": "python",
   "pygments_lexer": "ipython3",
   "version": "3.10.5"
  },
  "orig_nbformat": 4
 },
 "nbformat": 4,
 "nbformat_minor": 2
}
